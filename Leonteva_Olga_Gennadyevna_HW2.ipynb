{
 "cells": [
  {
   "cell_type": "code",
   "execution_count": 1,
   "metadata": {},
   "outputs": [],
   "source": [
    "# Импорт библиотек\n",
    "import sqlite3 \n",
    "from sqlite3 import Error \n",
    "import pandas as pd"
   ]
  },
  {
   "cell_type": "markdown",
   "metadata": {},
   "source": [
    "**Шаг 1**  \n",
    "(Балл - 0.2) Необходимо скачать CSV-файл — «final_transactions.csv», создать таблицу transaction_bd со всеми полями, загрузить данные из файла в таблицу и оставить таблицу со структурой:  \n",
    "(0, 'TX_DATETIME', 'NUMERIC', 0, None, 0) - время транзакций  \n",
    "(1, 'CUSTOMER_ID', 'INTEGER', 0, None, 0) - клиент  \n",
    "(2, 'TX_AMOUNT', 'REAL', 0, None, 0) - сумма транзакций  \n",
    "Комментарий: Можно оставить все 5 полей, но запросы будут выполняться чуть дольше."
   ]
  },
  {
   "cell_type": "code",
   "execution_count": 2,
   "metadata": {},
   "outputs": [],
   "source": [
    "# Функция создания Connection с БД\n",
    "def create_connection(path):\n",
    "    connection = None\n",
    "    try:\n",
    "        connection = sqlite3.connect(path)\n",
    "        print(\"Connection to SQLite DB successful\")\n",
    "    except Error as e:\n",
    "        print(f\"The error '{e}' occurred\")\n",
    "    return connection"
   ]
  },
  {
   "cell_type": "code",
   "execution_count": 3,
   "metadata": {},
   "outputs": [
    {
     "name": "stdout",
     "output_type": "stream",
     "text": [
      "Connection to SQLite DB successful\n"
     ]
    }
   ],
   "source": [
    "# Создание Connection с БД. Неяно создает БД, если не существует.\n",
    "con = create_connection(\"HW2.db\")"
   ]
  },
  {
   "cell_type": "code",
   "execution_count": 4,
   "metadata": {},
   "outputs": [],
   "source": [
    "# Функция выполнения запроса к БД. Создание Cursor, выполнение запроса/ошибка, если запрос выполнен, то \n",
    "# коммит Connection, закрытие Cursor.\n",
    "def execute_query(connection, query):\n",
    "    cursor = connection.cursor()\n",
    "    try:\n",
    "        cursor.execute(query)\n",
    "        connection.commit()\n",
    "        print(\"Query executed successfully\")\n",
    "        cursor.close()\n",
    "    except Error as e:\n",
    "        print(f\"The error '{e}' occurred\")"
   ]
  },
  {
   "cell_type": "code",
   "execution_count": 5,
   "metadata": {},
   "outputs": [],
   "source": [
    "# Запрос на создание таблицы transaction_bd в БД.\n",
    "create_transaction_table = \"\"\"\n",
    "CREATE TABLE IF NOT EXISTS transaction_bd (\n",
    "  TRANSACTION_ID INTEGER PRIMARY KEY AUTOINCREMENT,\n",
    "  TX_DATETIME TEXT NOT NULL,\n",
    "  CUSTOMER_ID INTEGER NOT NULL,\n",
    "  TERMINAL_ID INTEGER,\n",
    "  TX_AMOUNT REAL NOT NULL\n",
    ");\n",
    "\"\"\""
   ]
  },
  {
   "cell_type": "code",
   "execution_count": 6,
   "metadata": {},
   "outputs": [
    {
     "name": "stdout",
     "output_type": "stream",
     "text": [
      "Query executed successfully\n"
     ]
    }
   ],
   "source": [
    "# Исполнение запроса на создание таблицы transaction_bd в БД.\n",
    "execute_query(con, create_transaction_table)  "
   ]
  },
  {
   "cell_type": "code",
   "execution_count": 7,
   "metadata": {},
   "outputs": [],
   "source": [
    "# Чтение файла csv в датафрейм.\n",
    "df = pd.read_csv('final_transactions.csv')"
   ]
  },
  {
   "cell_type": "code",
   "execution_count": 8,
   "metadata": {},
   "outputs": [],
   "source": [
    "# Добавление всех записей с файла final_transactions.csv в таблицу transaction_bd\n",
    "df.to_sql('transaction_bd', con, if_exists='append', index=False)"
   ]
  },
  {
   "cell_type": "code",
   "execution_count": 9,
   "metadata": {},
   "outputs": [
    {
     "name": "stdout",
     "output_type": "stream",
     "text": [
      "<class 'pandas.core.frame.DataFrame'>\n",
      "RangeIndex: 1048575 entries, 0 to 1048574\n",
      "Data columns (total 5 columns):\n",
      " #   Column          Non-Null Count    Dtype  \n",
      "---  ------          --------------    -----  \n",
      " 0   TRANSACTION_ID  1048575 non-null  int64  \n",
      " 1   TX_DATETIME     1048575 non-null  object \n",
      " 2   CUSTOMER_ID     1048575 non-null  int64  \n",
      " 3   TERMINAL_ID     1048575 non-null  int64  \n",
      " 4   TX_AMOUNT       1048575 non-null  float64\n",
      "dtypes: float64(1), int64(3), object(1)\n",
      "memory usage: 40.0+ MB\n"
     ]
    }
   ],
   "source": [
    "# Информация о датафрейме с файла final_transactions.csv. Кол-во записей, кол-во ненулевых значений, кол-во колонок (полей).\n",
    "df.info()"
   ]
  },
  {
   "cell_type": "code",
   "execution_count": 10,
   "metadata": {},
   "outputs": [
    {
     "data": {
      "text/plain": [
       "4986"
      ]
     },
     "execution_count": 10,
     "metadata": {},
     "output_type": "execute_result"
    }
   ],
   "source": [
    "# Кол-во уникальных клиентов в датафрейме/таблице.\n",
    "df['CUSTOMER_ID'].nunique()"
   ]
  },
  {
   "cell_type": "markdown",
   "metadata": {},
   "source": [
    "**Шаг 2**  \n",
    "(Балл - 0.1 за каждый пункт) Написать следующие запросы к таблице transaction_bd:  \n",
    "**2A.** Вывести всех клиентов, у которых сумма транзакций больше 700000 за весь период (сортируя клиентов по возрастанию);\n"
   ]
  },
  {
   "cell_type": "code",
   "execution_count": 11,
   "metadata": {},
   "outputs": [],
   "source": [
    "# Запрос для пункта 2А\n",
    "query_a = \"\"\"\n",
    "SELECT CUSTOMER_ID, SUM(TX_AMOUNT)\n",
    "FROM transaction_bd\n",
    "GROUP BY CUSTOMER_ID\n",
    "HAVING SUM(TX_AMOUNT) > 700000\n",
    "ORDER BY CUSTOMER_ID;\n",
    "\"\"\""
   ]
  },
  {
   "cell_type": "code",
   "execution_count": 12,
   "metadata": {},
   "outputs": [
    {
     "data": {
      "text/html": [
       "<div>\n",
       "<style scoped>\n",
       "    .dataframe tbody tr th:only-of-type {\n",
       "        vertical-align: middle;\n",
       "    }\n",
       "\n",
       "    .dataframe tbody tr th {\n",
       "        vertical-align: top;\n",
       "    }\n",
       "\n",
       "    .dataframe thead th {\n",
       "        text-align: right;\n",
       "    }\n",
       "</style>\n",
       "<table border=\"1\" class=\"dataframe\">\n",
       "  <thead>\n",
       "    <tr style=\"text-align: right;\">\n",
       "      <th></th>\n",
       "      <th>CUSTOMER_ID</th>\n",
       "      <th>SUM(TX_AMOUNT)</th>\n",
       "    </tr>\n",
       "  </thead>\n",
       "  <tbody>\n",
       "    <tr>\n",
       "      <th>0</th>\n",
       "      <td>389</td>\n",
       "      <td>753411.90</td>\n",
       "    </tr>\n",
       "    <tr>\n",
       "      <th>1</th>\n",
       "      <td>2249</td>\n",
       "      <td>707478.64</td>\n",
       "    </tr>\n",
       "    <tr>\n",
       "      <th>2</th>\n",
       "      <td>2891</td>\n",
       "      <td>786115.87</td>\n",
       "    </tr>\n",
       "    <tr>\n",
       "      <th>3</th>\n",
       "      <td>3116</td>\n",
       "      <td>721980.69</td>\n",
       "    </tr>\n",
       "    <tr>\n",
       "      <th>4</th>\n",
       "      <td>4163</td>\n",
       "      <td>765153.63</td>\n",
       "    </tr>\n",
       "  </tbody>\n",
       "</table>\n",
       "</div>"
      ],
      "text/plain": [
       "   CUSTOMER_ID  SUM(TX_AMOUNT)\n",
       "0          389       753411.90\n",
       "1         2249       707478.64\n",
       "2         2891       786115.87\n",
       "3         3116       721980.69\n",
       "4         4163       765153.63"
      ]
     },
     "execution_count": 12,
     "metadata": {},
     "output_type": "execute_result"
    }
   ],
   "source": [
    "# Выполнение запроса для пункта 2А и запись в датафрейм.\n",
    "df_a = pd.read_sql_query(query_a, con)\n",
    "df_a"
   ]
  },
  {
   "cell_type": "markdown",
   "metadata": {},
   "source": [
    "**2B.** Вывести всех клиентов, у которых сумма транзакций больше 200000 за период 01.01.2023 - 13.01.2023 (сортируя клиентов по возрастанию);"
   ]
  },
  {
   "cell_type": "code",
   "execution_count": 13,
   "metadata": {},
   "outputs": [],
   "source": [
    "# Запрос для пункта 2B\n",
    "query_b = \"\"\"\n",
    "SELECT CUSTOMER_ID, SUM(TX_AMOUNT)\n",
    "FROM transaction_bd\n",
    "WHERE strftime('%Y-%m-%d', TX_DATETIME) BETWEEN '2023-01-01' AND '2023-01-13'\n",
    "GROUP BY CUSTOMER_ID\n",
    "HAVING SUM(TX_AMOUNT) > 200000\n",
    "ORDER BY CUSTOMER_ID;\n",
    "\"\"\""
   ]
  },
  {
   "cell_type": "code",
   "execution_count": 14,
   "metadata": {},
   "outputs": [
    {
     "data": {
      "text/html": [
       "<div>\n",
       "<style scoped>\n",
       "    .dataframe tbody tr th:only-of-type {\n",
       "        vertical-align: middle;\n",
       "    }\n",
       "\n",
       "    .dataframe tbody tr th {\n",
       "        vertical-align: top;\n",
       "    }\n",
       "\n",
       "    .dataframe thead th {\n",
       "        text-align: right;\n",
       "    }\n",
       "</style>\n",
       "<table border=\"1\" class=\"dataframe\">\n",
       "  <thead>\n",
       "    <tr style=\"text-align: right;\">\n",
       "      <th></th>\n",
       "      <th>CUSTOMER_ID</th>\n",
       "      <th>SUM(TX_AMOUNT)</th>\n",
       "    </tr>\n",
       "  </thead>\n",
       "  <tbody>\n",
       "    <tr>\n",
       "      <th>0</th>\n",
       "      <td>1918</td>\n",
       "      <td>241299.96</td>\n",
       "    </tr>\n",
       "    <tr>\n",
       "      <th>1</th>\n",
       "      <td>3406</td>\n",
       "      <td>207733.48</td>\n",
       "    </tr>\n",
       "    <tr>\n",
       "      <th>2</th>\n",
       "      <td>3833</td>\n",
       "      <td>269107.40</td>\n",
       "    </tr>\n",
       "    <tr>\n",
       "      <th>3</th>\n",
       "      <td>4252</td>\n",
       "      <td>220650.36</td>\n",
       "    </tr>\n",
       "  </tbody>\n",
       "</table>\n",
       "</div>"
      ],
      "text/plain": [
       "   CUSTOMER_ID  SUM(TX_AMOUNT)\n",
       "0         1918       241299.96\n",
       "1         3406       207733.48\n",
       "2         3833       269107.40\n",
       "3         4252       220650.36"
      ]
     },
     "execution_count": 14,
     "metadata": {},
     "output_type": "execute_result"
    }
   ],
   "source": [
    "# Выполнение запроса для пункта 2B и запись в датафрейм.\n",
    "df_b = pd.read_sql_query(query_b, con)\n",
    "df_b"
   ]
  },
  {
   "cell_type": "markdown",
   "metadata": {},
   "source": [
    "**2C.** Вывести тех клиентов, у которых id начинается с 4 и количество транзакций за весь период более 444;"
   ]
  },
  {
   "cell_type": "code",
   "execution_count": 15,
   "metadata": {},
   "outputs": [],
   "source": [
    "# Запрос для пункта 2C\n",
    "query_c = \"\"\"\n",
    "SELECT CUSTOMER_ID, COUNT(TX_AMOUNT)\n",
    "FROM transaction_bd\n",
    "WHERE CUSTOMER_ID LIKE '4%'\n",
    "GROUP BY CUSTOMER_ID\n",
    "HAVING COUNT(TX_AMOUNT) > 444;\n",
    "\"\"\""
   ]
  },
  {
   "cell_type": "code",
   "execution_count": 16,
   "metadata": {},
   "outputs": [
    {
     "data": {
      "text/html": [
       "<div>\n",
       "<style scoped>\n",
       "    .dataframe tbody tr th:only-of-type {\n",
       "        vertical-align: middle;\n",
       "    }\n",
       "\n",
       "    .dataframe tbody tr th {\n",
       "        vertical-align: top;\n",
       "    }\n",
       "\n",
       "    .dataframe thead th {\n",
       "        text-align: right;\n",
       "    }\n",
       "</style>\n",
       "<table border=\"1\" class=\"dataframe\">\n",
       "  <thead>\n",
       "    <tr style=\"text-align: right;\">\n",
       "      <th></th>\n",
       "      <th>CUSTOMER_ID</th>\n",
       "      <th>COUNT(TX_AMOUNT)</th>\n",
       "    </tr>\n",
       "  </thead>\n",
       "  <tbody>\n",
       "    <tr>\n",
       "      <th>0</th>\n",
       "      <td>4231</td>\n",
       "      <td>451</td>\n",
       "    </tr>\n",
       "    <tr>\n",
       "      <th>1</th>\n",
       "      <td>4539</td>\n",
       "      <td>445</td>\n",
       "    </tr>\n",
       "    <tr>\n",
       "      <th>2</th>\n",
       "      <td>4661</td>\n",
       "      <td>449</td>\n",
       "    </tr>\n",
       "  </tbody>\n",
       "</table>\n",
       "</div>"
      ],
      "text/plain": [
       "   CUSTOMER_ID  COUNT(TX_AMOUNT)\n",
       "0         4231               451\n",
       "1         4539               445\n",
       "2         4661               449"
      ]
     },
     "execution_count": 16,
     "metadata": {},
     "output_type": "execute_result"
    }
   ],
   "source": [
    "# Выполнение запроса для пункта 2C и запись в датафрейм.\n",
    "df_c = pd.read_sql_query(query_c, con)\n",
    "df_c"
   ]
  },
  {
   "cell_type": "markdown",
   "metadata": {},
   "source": [
    "**2D.** Создать флаг доходности клиентов по логике:  \n",
    "1. Если сумма транзакций не более 50000, тогда вывести 'низкая доходность';  \n",
    "2. Если сумма транзакций больше 50000 и не более 100000 тогда вывести 'средняя доходность';  \n",
    "3. Если сумма транзакций больше 100000 тогда вывести 'высокая доходность'."
   ]
  },
  {
   "cell_type": "code",
   "execution_count": 17,
   "metadata": {},
   "outputs": [],
   "source": [
    "# Запрос для пункта 2D\n",
    "query_d = \"\"\"\n",
    "SELECT CUSTOMER_ID, SUM(TX_AMOUNT),\n",
    "CASE\n",
    "    WHEN SUM(TX_AMOUNT) <= 50000 THEN 'низкая доходность'\n",
    "    WHEN SUM(TX_AMOUNT) > 50000 AND SUM(TX_AMOUNT) <= 100000 THEN 'средняя доходность'\n",
    "    WHEN SUM(TX_AMOUNT) > 100000 THEN 'высокая доходность'\n",
    "    ELSE ''\n",
    "END AS PROFIT_FLAG\n",
    "FROM transaction_bd\n",
    "GROUP BY CUSTOMER_ID\n",
    ";\n",
    "\"\"\""
   ]
  },
  {
   "cell_type": "code",
   "execution_count": 18,
   "metadata": {},
   "outputs": [
    {
     "data": {
      "text/html": [
       "<div>\n",
       "<style scoped>\n",
       "    .dataframe tbody tr th:only-of-type {\n",
       "        vertical-align: middle;\n",
       "    }\n",
       "\n",
       "    .dataframe tbody tr th {\n",
       "        vertical-align: top;\n",
       "    }\n",
       "\n",
       "    .dataframe thead th {\n",
       "        text-align: right;\n",
       "    }\n",
       "</style>\n",
       "<table border=\"1\" class=\"dataframe\">\n",
       "  <thead>\n",
       "    <tr style=\"text-align: right;\">\n",
       "      <th></th>\n",
       "      <th>CUSTOMER_ID</th>\n",
       "      <th>SUM(TX_AMOUNT)</th>\n",
       "      <th>PROFIT_FLAG</th>\n",
       "    </tr>\n",
       "  </thead>\n",
       "  <tbody>\n",
       "    <tr>\n",
       "      <th>0</th>\n",
       "      <td>0</td>\n",
       "      <td>119568.47</td>\n",
       "      <td>высокая доходность</td>\n",
       "    </tr>\n",
       "    <tr>\n",
       "      <th>1</th>\n",
       "      <td>1</td>\n",
       "      <td>323510.82</td>\n",
       "      <td>высокая доходность</td>\n",
       "    </tr>\n",
       "    <tr>\n",
       "      <th>2</th>\n",
       "      <td>2</td>\n",
       "      <td>162541.90</td>\n",
       "      <td>высокая доходность</td>\n",
       "    </tr>\n",
       "    <tr>\n",
       "      <th>3</th>\n",
       "      <td>3</td>\n",
       "      <td>2406.56</td>\n",
       "      <td>низкая доходность</td>\n",
       "    </tr>\n",
       "    <tr>\n",
       "      <th>4</th>\n",
       "      <td>4</td>\n",
       "      <td>300589.33</td>\n",
       "      <td>высокая доходность</td>\n",
       "    </tr>\n",
       "    <tr>\n",
       "      <th>...</th>\n",
       "      <td>...</td>\n",
       "      <td>...</td>\n",
       "      <td>...</td>\n",
       "    </tr>\n",
       "    <tr>\n",
       "      <th>4981</th>\n",
       "      <td>4995</td>\n",
       "      <td>149962.31</td>\n",
       "      <td>высокая доходность</td>\n",
       "    </tr>\n",
       "    <tr>\n",
       "      <th>4982</th>\n",
       "      <td>4996</td>\n",
       "      <td>27135.67</td>\n",
       "      <td>низкая доходность</td>\n",
       "    </tr>\n",
       "    <tr>\n",
       "      <th>4983</th>\n",
       "      <td>4997</td>\n",
       "      <td>131288.62</td>\n",
       "      <td>высокая доходность</td>\n",
       "    </tr>\n",
       "    <tr>\n",
       "      <th>4984</th>\n",
       "      <td>4998</td>\n",
       "      <td>337988.39</td>\n",
       "      <td>высокая доходность</td>\n",
       "    </tr>\n",
       "    <tr>\n",
       "      <th>4985</th>\n",
       "      <td>4999</td>\n",
       "      <td>101289.30</td>\n",
       "      <td>высокая доходность</td>\n",
       "    </tr>\n",
       "  </tbody>\n",
       "</table>\n",
       "<p>4986 rows × 3 columns</p>\n",
       "</div>"
      ],
      "text/plain": [
       "      CUSTOMER_ID  SUM(TX_AMOUNT)         PROFIT_FLAG\n",
       "0               0       119568.47  высокая доходность\n",
       "1               1       323510.82  высокая доходность\n",
       "2               2       162541.90  высокая доходность\n",
       "3               3         2406.56   низкая доходность\n",
       "4               4       300589.33  высокая доходность\n",
       "...           ...             ...                 ...\n",
       "4981         4995       149962.31  высокая доходность\n",
       "4982         4996        27135.67   низкая доходность\n",
       "4983         4997       131288.62  высокая доходность\n",
       "4984         4998       337988.39  высокая доходность\n",
       "4985         4999       101289.30  высокая доходность\n",
       "\n",
       "[4986 rows x 3 columns]"
      ]
     },
     "execution_count": 18,
     "metadata": {},
     "output_type": "execute_result"
    }
   ],
   "source": [
    "# Выполнение запроса для пункта 2D и запись в датафрейм.\n",
    "df_d = pd.read_sql_query(query_d, con)\n",
    "df_d"
   ]
  },
  {
   "cell_type": "markdown",
   "metadata": {},
   "source": [
    "**2E.** Посмотреть количество клиентов с каждым видом доходности (из пункта 2.d);"
   ]
  },
  {
   "cell_type": "code",
   "execution_count": 19,
   "metadata": {},
   "outputs": [],
   "source": [
    "# Запрос для пункта 2E\n",
    "query_e = \"\"\"\n",
    "SELECT PROFIT_FLAG, COUNT(CUSTOMER_ID)\n",
    "FROM (SELECT CUSTOMER_ID, SUM(TX_AMOUNT),\n",
    "    CASE\n",
    "        WHEN SUM(TX_AMOUNT) <= 50000 THEN 'низкая доходность'\n",
    "        WHEN SUM(TX_AMOUNT) > 50000 AND SUM(TX_AMOUNT) <= 100000 THEN 'средняя доходность'\n",
    "        WHEN SUM(TX_AMOUNT) > 100000 THEN 'высокая доходность'\n",
    "        ELSE ''\n",
    "    END AS PROFIT_FLAG\n",
    "    FROM transaction_bd\n",
    "    GROUP BY CUSTOMER_ID)\n",
    "GROUP BY PROFIT_FLAG;\n",
    "\"\"\""
   ]
  },
  {
   "cell_type": "code",
   "execution_count": 20,
   "metadata": {},
   "outputs": [
    {
     "data": {
      "text/html": [
       "<div>\n",
       "<style scoped>\n",
       "    .dataframe tbody tr th:only-of-type {\n",
       "        vertical-align: middle;\n",
       "    }\n",
       "\n",
       "    .dataframe tbody tr th {\n",
       "        vertical-align: top;\n",
       "    }\n",
       "\n",
       "    .dataframe thead th {\n",
       "        text-align: right;\n",
       "    }\n",
       "</style>\n",
       "<table border=\"1\" class=\"dataframe\">\n",
       "  <thead>\n",
       "    <tr style=\"text-align: right;\">\n",
       "      <th></th>\n",
       "      <th>PROFIT_FLAG</th>\n",
       "      <th>COUNT(CUSTOMER_ID)</th>\n",
       "    </tr>\n",
       "  </thead>\n",
       "  <tbody>\n",
       "    <tr>\n",
       "      <th>0</th>\n",
       "      <td>высокая доходность</td>\n",
       "      <td>2167</td>\n",
       "    </tr>\n",
       "    <tr>\n",
       "      <th>1</th>\n",
       "      <td>низкая доходность</td>\n",
       "      <td>1812</td>\n",
       "    </tr>\n",
       "    <tr>\n",
       "      <th>2</th>\n",
       "      <td>средняя доходность</td>\n",
       "      <td>1007</td>\n",
       "    </tr>\n",
       "  </tbody>\n",
       "</table>\n",
       "</div>"
      ],
      "text/plain": [
       "          PROFIT_FLAG  COUNT(CUSTOMER_ID)\n",
       "0  высокая доходность                2167\n",
       "1   низкая доходность                1812\n",
       "2  средняя доходность                1007"
      ]
     },
     "execution_count": 20,
     "metadata": {},
     "output_type": "execute_result"
    }
   ],
   "source": [
    "# Выполнение запроса для пункта 2E и запись в датафрейм.\n",
    "df_e = pd.read_sql_query(query_e, con)\n",
    "df_e"
   ]
  },
  {
   "cell_type": "markdown",
   "metadata": {},
   "source": [
    "**2F.** Вывести сумму транзакций за каждый день (сортируя дни по возрастанию)."
   ]
  },
  {
   "cell_type": "code",
   "execution_count": 21,
   "metadata": {},
   "outputs": [],
   "source": [
    "# Запрос для пункта 2F\n",
    "query_f = \"\"\"\n",
    "SELECT strftime('%Y-%m-%d', TX_DATETIME) AS DATE, SUM(TX_AMOUNT)\n",
    "FROM transaction_bd\n",
    "GROUP BY strftime('%Y-%m-%d', TX_DATETIME)\n",
    "ORDER BY DATE;\n",
    "\"\"\""
   ]
  },
  {
   "cell_type": "code",
   "execution_count": 22,
   "metadata": {},
   "outputs": [
    {
     "data": {
      "text/html": [
       "<div>\n",
       "<style scoped>\n",
       "    .dataframe tbody tr th:only-of-type {\n",
       "        vertical-align: middle;\n",
       "    }\n",
       "\n",
       "    .dataframe tbody tr th {\n",
       "        vertical-align: top;\n",
       "    }\n",
       "\n",
       "    .dataframe thead th {\n",
       "        text-align: right;\n",
       "    }\n",
       "</style>\n",
       "<table border=\"1\" class=\"dataframe\">\n",
       "  <thead>\n",
       "    <tr style=\"text-align: right;\">\n",
       "      <th></th>\n",
       "      <th>DATE</th>\n",
       "      <th>SUM(TX_AMOUNT)</th>\n",
       "    </tr>\n",
       "  </thead>\n",
       "  <tbody>\n",
       "    <tr>\n",
       "      <th>0</th>\n",
       "      <td>2023-01-01</td>\n",
       "      <td>4827656.26</td>\n",
       "    </tr>\n",
       "    <tr>\n",
       "      <th>1</th>\n",
       "      <td>2023-01-02</td>\n",
       "      <td>4862551.41</td>\n",
       "    </tr>\n",
       "    <tr>\n",
       "      <th>2</th>\n",
       "      <td>2023-01-03</td>\n",
       "      <td>5058973.71</td>\n",
       "    </tr>\n",
       "    <tr>\n",
       "      <th>3</th>\n",
       "      <td>2023-01-04</td>\n",
       "      <td>4938142.47</td>\n",
       "    </tr>\n",
       "    <tr>\n",
       "      <th>4</th>\n",
       "      <td>2023-01-05</td>\n",
       "      <td>5002954.23</td>\n",
       "    </tr>\n",
       "    <tr>\n",
       "      <th>...</th>\n",
       "      <td>...</td>\n",
       "      <td>...</td>\n",
       "    </tr>\n",
       "    <tr>\n",
       "      <th>105</th>\n",
       "      <td>2023-04-16</td>\n",
       "      <td>5299386.81</td>\n",
       "    </tr>\n",
       "    <tr>\n",
       "      <th>106</th>\n",
       "      <td>2023-04-17</td>\n",
       "      <td>5100973.31</td>\n",
       "    </tr>\n",
       "    <tr>\n",
       "      <th>107</th>\n",
       "      <td>2023-04-18</td>\n",
       "      <td>5233557.39</td>\n",
       "    </tr>\n",
       "    <tr>\n",
       "      <th>108</th>\n",
       "      <td>2023-04-19</td>\n",
       "      <td>5194846.44</td>\n",
       "    </tr>\n",
       "    <tr>\n",
       "      <th>109</th>\n",
       "      <td>2023-04-20</td>\n",
       "      <td>1795235.72</td>\n",
       "    </tr>\n",
       "  </tbody>\n",
       "</table>\n",
       "<p>110 rows × 2 columns</p>\n",
       "</div>"
      ],
      "text/plain": [
       "           DATE  SUM(TX_AMOUNT)\n",
       "0    2023-01-01      4827656.26\n",
       "1    2023-01-02      4862551.41\n",
       "2    2023-01-03      5058973.71\n",
       "3    2023-01-04      4938142.47\n",
       "4    2023-01-05      5002954.23\n",
       "..          ...             ...\n",
       "105  2023-04-16      5299386.81\n",
       "106  2023-04-17      5100973.31\n",
       "107  2023-04-18      5233557.39\n",
       "108  2023-04-19      5194846.44\n",
       "109  2023-04-20      1795235.72\n",
       "\n",
       "[110 rows x 2 columns]"
      ]
     },
     "execution_count": 22,
     "metadata": {},
     "output_type": "execute_result"
    }
   ],
   "source": [
    "# Выполнение запроса для пункта 2F и запись в датафрейм.\n",
    "df_f = pd.read_sql_query(query_f, con)\n",
    "df_f"
   ]
  },
  {
   "cell_type": "markdown",
   "metadata": {},
   "source": [
    "**Шаг 3**  \n",
    "(Балл - 0.2) Подготовить дашборд с помощью Dash по пункту 2.f, включив туда графики bar и histogram;  \n",
    "вставить в конце ноутбука скрин графиков из дашборда."
   ]
  },
  {
   "cell_type": "code",
   "execution_count": 23,
   "metadata": {},
   "outputs": [],
   "source": [
    "#!pip install dash"
   ]
  },
  {
   "cell_type": "code",
   "execution_count": 24,
   "metadata": {},
   "outputs": [],
   "source": [
    "#!pip install jupyter-dash"
   ]
  },
  {
   "cell_type": "code",
   "execution_count": 25,
   "metadata": {},
   "outputs": [],
   "source": [
    "# Импорт библиотек\n",
    "from dash import Dash\n",
    "import dash_core_components as dcc\n",
    "import dash_html_components as html\n",
    "import plotly.express as px"
   ]
  },
  {
   "cell_type": "code",
   "execution_count": 26,
   "metadata": {},
   "outputs": [
    {
     "name": "stdout",
     "output_type": "stream",
     "text": [
      "Dash is running on http://127.0.0.1:8050/\n",
      "\n",
      " * Serving Flask app \"__main__\" (lazy loading)\n",
      " * Environment: production\n",
      "   WARNING: This is a development server. Do not use it in a production deployment.\n",
      "   Use a production WSGI server instead.\n",
      " * Debug mode: off\n"
     ]
    },
    {
     "name": "stderr",
     "output_type": "stream",
     "text": [
      " * Running on http://127.0.0.1:8050/ (Press CTRL+C to quit)\n",
      "127.0.0.1 - - [31/Mar/2023 00:49:03] \"\u001b[37mGET / HTTP/1.1\u001b[0m\" 200 -\n",
      "127.0.0.1 - - [31/Mar/2023 00:49:03] \"\u001b[37mGET /_dash-dependencies HTTP/1.1\u001b[0m\" 200 -\n",
      "127.0.0.1 - - [31/Mar/2023 00:49:03] \"\u001b[37mGET /_dash-layout HTTP/1.1\u001b[0m\" 200 -\n",
      "127.0.0.1 - - [31/Mar/2023 00:49:03] \"\u001b[37mGET /_dash-component-suites/dash_core_components/async-graph.js HTTP/1.1\u001b[0m\" 200 -\n",
      "127.0.0.1 - - [31/Mar/2023 00:49:04] \"\u001b[37mGET /_dash-component-suites/dash_core_components/async-plotlyjs.js HTTP/1.1\u001b[0m\" 200 -\n"
     ]
    }
   ],
   "source": [
    "# Создание Dash, графиков bar и histogram, отображение локально.\n",
    "app = Dash()\n",
    "\n",
    "fig1 = px.bar(df_f, x=\"DATE\", y=\"SUM(TX_AMOUNT)\", title = 'Сумма транзакций за каждый день с 01.01.2023 по 20.04.2023')\n",
    "\n",
    "fig2 = px.histogram(df_f, x=\"SUM(TX_AMOUNT)\", nbins=5, title = \\\n",
    "                    'Частотное распределение суммы транзакций по дням с 01.01.2023 по 20.04.2023')\n",
    "\n",
    "app.layout = html.Div(children=[\n",
    "    html.H1(children='Данные по суммам транзакций с 01.01.2023 по 20.04.2023', style={'textAlign':'center'}),\n",
    "\n",
    "    dcc.Graph(\n",
    "        id='bar_graph',\n",
    "        figure=fig1\n",
    "    ),\n",
    "     dcc.Graph(\n",
    "        id='hist_graph',\n",
    "        figure=fig2\n",
    "    )\n",
    "])\n",
    "\n",
    "app.run_server()"
   ]
  },
  {
   "attachments": {
    "bar_graph.png": {
     "image/png": "[encoded data removed]"
    }
   },
   "cell_type": "markdown",
   "metadata": {},
   "source": [
    "Изображение графиков\n",
    "![bar_graph.png](attachment:bar_graph.png)  \n",
    "\n"
   ]
  },
  {
   "attachments": {
    "hist_graph.png": {
     "image/png": "[encoded data removed]"
    }
   },
   "cell_type": "markdown",
   "metadata": {},
   "source": [
    "![hist_graph.png](attachment:hist_graph.png)"
   ]
  },
  {
   "cell_type": "code",
   "execution_count": 27,
   "metadata": {},
   "outputs": [],
   "source": [
    "# Закрытие Connection с БД.\n",
    "con.close()"
   ]
  }
 ],
 "metadata": {
  "kernelspec": {
   "display_name": "Python 3",
   "language": "python",
   "name": "python3"
  },
  "language_info": {
   "codemirror_mode": {
    "name": "ipython",
    "version": 3
   },
   "file_extension": ".py",
   "mimetype": "text/x-python",
   "name": "python",
   "nbconvert_exporter": "python",
   "pygments_lexer": "ipython3",
   "version": "3.8.5"
  }
 },
 "nbformat": 4,
 "nbformat_minor": 4
}
